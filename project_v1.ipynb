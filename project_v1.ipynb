{
 "cells": [
  {
   "cell_type": "markdown",
   "source": [
    "## Описание проекта\n",
    "\n",
    "**Matching** - это задача поиска и сопоставления двух объектов из разных наборов данных. \n",
    "\n",
    "#### Что надо сделать?\n",
    "\n",
    "- разработать алгоритм, который для всех товаров из **validation.csv** предложит несколько вариантов наиболее похожих товаров из base;\n",
    "- оценить качество алгоритма по метрике **accuracy@5**."
   ],
   "metadata": {
    "collapsed": false
   },
   "id": "660514495e7b3ce5"
  },
  {
   "cell_type": "markdown",
   "source": [
    " Описание:\n",
    "\n",
    "***base.csv*** - анонимизированный набор товаров. Каждый товар представлен как уникальный id (0-base, 1-base, 2-base) и вектор признаков размерностью 72.\n",
    "***train.csv*** - обучающий датасет. Каждая строчка - один товар, для которого известен уникальный id (0-query, 1-query, …), вектор признаков и id товара из base.csv, который максимально похож на него (по мнению экспертов).\n",
    "***validation.csv*** - датасет с товарами (уникальный id и вектор признаков), для которых надо найти наиболее близкие товары из base.csv\n",
    "***validation_answer.csv*** - правильные ответы к предыдущему файлу"
   ],
   "metadata": {
    "collapsed": false
   },
   "id": "ec4d4a617a06560"
  },
  {
   "cell_type": "markdown",
   "source": [
    "**Задание:**\n",
    "- загрузить данные;\n",
    "- понять задачу;\n",
    "- подготовить данные;\n",
    "- обучить базовую модель; \n",
    "- измерить качество."
   ],
   "metadata": {
    "collapsed": false
   },
   "id": "fd62b02c6b2d9888"
  },
  {
   "cell_type": "markdown",
   "source": [
    "<a id='section_0'></a>\n",
    "### [Оглавление](#section_0)<br>\n",
    "[1. Импорты, настройки и загрузка данных](#section_1)<br>\n",
    "-    [1.1 Функции](#section_1.1)<br>\n",
    "-    [1.2 Загрузка данных](#section_1.2)<br>\n",
    "\n",
    "[2. Анализ и предобработка данных](#section_2)<br>\n",
    "[3. Подготовка и выбор моделей](#section_3)<br>\n",
    "[4. Уменьшение размерности](#section_4)<br>\n",
    "[5. Проверка на Валидационной выборкее](#section_5)<br>\n",
    "[6. Итоговый вывод](#section_6)<br>\n"
   ],
   "metadata": {
    "collapsed": false
   },
   "id": "e3fadec29f4c408c"
  },
  {
   "cell_type": "markdown",
   "source": [
    "<a id='section_1'></a>\n",
    "## Импорты, настройки и загрузка данных"
   ],
   "metadata": {
    "collapsed": false
   },
   "id": "fdb42e38e7d59163"
  },
  {
   "cell_type": "code",
   "execution_count": 1,
   "id": "initial_id",
   "metadata": {
    "collapsed": true,
    "ExecuteTime": {
     "end_time": "2023-12-14T15:23:22.132952100Z",
     "start_time": "2023-12-14T15:23:17.126993500Z"
    }
   },
   "outputs": [],
   "source": [
    "import faiss\n",
    "import numpy as np\n",
    "import pandas as pd\n",
    "import seaborn as sns\n",
    "import sweetviz as sv\n",
    "import time\n",
    "import warnings\n",
    "\n",
    "from matplotlib import pyplot as plt\n",
    "from phik import phik_matrix\n",
    "from sklearn.decomposition import IncrementalPCA, PCA, TruncatedSVD\n",
    "from sklearn.cluster import KMeans\n",
    "from sklearn.metrics import davies_bouldin_score\n",
    "from sklearn.preprocessing import (MaxAbsScaler, MinMaxScaler, \n",
    "                                   PowerTransformer, RobustScaler, \n",
    "                                   QuantileTransformer)\n",
    "from tqdm import tqdm\n",
    "\n",
    "\n",
    "# константы\n",
    "RANDOM_STATE = 13\n",
    "K = 5"
   ]
  },
  {
   "cell_type": "code",
   "execution_count": 2,
   "outputs": [],
   "source": [
    "# !pip install faiss-cpu -q\n",
    "# !pip install sweetviz -q\n",
    "# !pip install phik -q\n",
    "# !pip install shap -q"
   ],
   "metadata": {
    "collapsed": false,
    "ExecuteTime": {
     "end_time": "2023-12-14T15:23:22.136500100Z",
     "start_time": "2023-12-14T15:23:22.132441500Z"
    }
   },
   "id": "8f70a047c8330fc1"
  },
  {
   "cell_type": "code",
   "execution_count": 3,
   "outputs": [],
   "source": [
    "# настройки\n",
    "pd.options.display.float_format = '{:_.4f}'.format\n",
    "pd.options.display.max_columns = None\n",
    "warnings.filterwarnings(\"ignore\")"
   ],
   "metadata": {
    "collapsed": false,
    "ExecuteTime": {
     "end_time": "2023-12-14T15:23:22.150559900Z",
     "start_time": "2023-12-14T15:23:22.135463500Z"
    }
   },
   "id": "2c82aa2bf1607d62"
  },
  {
   "cell_type": "markdown",
   "source": [
    "<a id='section_1.1'></a>\n",
    "### Функции"
   ],
   "metadata": {
    "collapsed": false
   },
   "id": "788337a640cfbe84"
  },
  {
   "cell_type": "code",
   "execution_count": 4,
   "outputs": [],
   "source": [
    "# Изучение данных\n",
    "def get_data_info(df): \n",
    "    display(df.sample(5))\n",
    "    display(df.info())\n",
    "    display(df.describe(include='all'))\n",
    "    display(f'Количество пропусков в данных: {df.isna().sum().sort_values(ascending=False)}')\n",
    "    display(f'Кол-во дубликатов в данных = {df.duplicated().sum()}')\n",
    "\n",
    "# Изменение типа данных\n",
    "def reduce_mem_usage(df):\n",
    "    start_mem = df.memory_usage().sum() / 1024**2\n",
    "    print(f'Memory usage of dataframe is {round(start_mem, 2)} MB')\n",
    "\n",
    "    cols = df.select_dtypes(exclude=['object']).columns.to_list()\n",
    "    for col in cols:\n",
    "        df[col] = df[col].astype(np.float32)\n",
    "\n",
    "    end_mem = df.memory_usage().sum() / 1024**2\n",
    "    print(f'Memory usage after optimization is: {round(end_mem, 2)} MB')\n",
    "    print(f'Decreased by {round(100 * (start_mem - end_mem) / start_mem, 2)}%')\n",
    "\n",
    "    return df\n",
    "\n",
    "# Отображение выбросов в данных\n",
    "def show_outliers(df):\n",
    "    df.plot(kind='box', figsize=[25, 10]) \n",
    "    plt.title('Диаграммa размаха.', fontsize=10)\n",
    "    plt.tight_layout()\n",
    "    plt.show();\n",
    "\n",
    "# Удаление выбросов. \n",
    "def removing_outliers(df):\n",
    "    for i in df.select_dtypes(exclude=['object']).columns.to_list():\n",
    "        q1 = df[i].quantile(.25)\n",
    "        q3 = df[i].quantile(.75)\n",
    "        iqr = q3 - q1\n",
    "        lower = q1 - 1.5 - iqr\n",
    "        upper = q3 + 1.5 * iqr\n",
    "        df[i] = df[i].clip(lower, upper)\n",
    "    return df"
   ],
   "metadata": {
    "collapsed": false,
    "ExecuteTime": {
     "end_time": "2023-12-14T15:23:22.159639600Z",
     "start_time": "2023-12-14T15:23:22.150559900Z"
    }
   },
   "id": "9c04cda593b42494"
  },
  {
   "cell_type": "markdown",
   "source": [
    "<a id='section_1.2'></a>\n",
    "### Загрузка данных"
   ],
   "metadata": {
    "collapsed": false
   },
   "id": "1c5f8b49befe515d"
  },
  {
   "cell_type": "code",
   "execution_count": 5,
   "outputs": [],
   "source": [
    "try:\n",
    "    df_train = pd.read_csv('datasets/train.csv')\n",
    "    df_test = pd.read_csv('datasets/validation.csv')\n",
    "    df_base = pd.read_csv('datasets/base.csv')\n",
    "    ans = pd.read_csv('datasets/validation_answer.csv')\n",
    "\n",
    "except:\n",
    "    df_train = pd.read_csv('/datasets/train.csv')\n",
    "    df_test = pd.read_csv('/datasets/validation.csv')\n",
    "    df_base = pd.read_csv('/datasets/base.csv')\n",
    "    ans = pd.read_csv('/datasets/validation_answer.csv')"
   ],
   "metadata": {
    "collapsed": false,
    "ExecuteTime": {
     "end_time": "2023-12-14T15:23:41.301538500Z",
     "start_time": "2023-12-14T15:23:22.159639600Z"
    }
   },
   "id": "d3b073331446682d"
  },
  {
   "cell_type": "code",
   "execution_count": 6,
   "outputs": [],
   "source": [
    "# Посмотрю на полученные данные\n",
    "for df in [df_train, df_test, df_base]:\n",
    "    get_data_info(df)"
   ],
   "metadata": {
    "collapsed": false,
    "ExecuteTime": {
     "end_time": "2023-12-14T15:23:41.305020600Z",
     "start_time": "2023-12-14T15:23:41.302504300Z"
    }
   },
   "id": "78020bebd5a095b0"
  },
  {
   "cell_type": "markdown",
   "source": [
    "Пропуски и явные дубликаты в данных отсутствуют. "
   ],
   "metadata": {
    "collapsed": false
   },
   "id": "e23ae5d3f6976fba"
  },
  {
   "cell_type": "markdown",
   "source": [
    "[К оглавлению](#section_0)\n",
    "<a id='section_2'></a>\n",
    "## Анализ и предобработка данных"
   ],
   "metadata": {
    "collapsed": false
   },
   "id": "26f6e1a194279b2f"
  },
  {
   "cell_type": "code",
   "execution_count": 7,
   "outputs": [
    {
     "name": "stdout",
     "output_type": "stream",
     "text": [
      "Memory usage of dataframe is 56.46 MB\n",
      "Memory usage after optimization is: 28.99 MB\n",
      "Decreased by 48.65%\n",
      "Memory usage of dataframe is 55.69 MB\n",
      "Memory usage after optimization is: 28.23 MB\n",
      "Decreased by 49.31%\n",
      "Memory usage of dataframe is 1625.25 MB\n",
      "Memory usage after optimization is: 823.75 MB\n",
      "Decreased by 49.32%\n"
     ]
    }
   ],
   "source": [
    "# Изменю тип данных для уменьшения используемой памяти. \n",
    "for df in [df_train, df_test, df_base]:\n",
    "    reduce_mem_usage(df)"
   ],
   "metadata": {
    "collapsed": false,
    "ExecuteTime": {
     "end_time": "2023-12-14T15:23:42.179687900Z",
     "start_time": "2023-12-14T15:23:41.305020600Z"
    }
   },
   "id": "8121b8359eb961fd"
  },
  {
   "cell_type": "code",
   "execution_count": 8,
   "outputs": [],
   "source": [
    "# Сделаю из колонки с Id индекс. \n",
    "for df in [df_base, df_train, df_test]:\n",
    "    df.set_index('Id', inplace=True)"
   ],
   "metadata": {
    "collapsed": false,
    "ExecuteTime": {
     "end_time": "2023-12-14T15:23:42.193285200Z",
     "start_time": "2023-12-14T15:23:42.178688300Z"
    }
   },
   "id": "79259c00c0ffcf41"
  },
  {
   "cell_type": "code",
   "execution_count": 9,
   "outputs": [],
   "source": [
    "# Выделю таргет и подготовлю словарь с индексами из базового датасета \n",
    "train_targets = df_train.Target\n",
    "base_index = {k: v for k, v in enumerate(df_base.index.to_list())}"
   ],
   "metadata": {
    "collapsed": false,
    "ExecuteTime": {
     "end_time": "2023-12-14T15:23:42.481366300Z",
     "start_time": "2023-12-14T15:23:42.194284900Z"
    }
   },
   "id": "c9a398fce7eee92"
  },
  {
   "cell_type": "code",
   "execution_count": 10,
   "outputs": [
    {
     "data": {
      "text/plain": "'Кол-во дубликатов в данных = 0'"
     },
     "metadata": {},
     "output_type": "display_data"
    },
    {
     "data": {
      "text/plain": "'Кол-во дубликатов в данных = 0'"
     },
     "metadata": {},
     "output_type": "display_data"
    },
    {
     "data": {
      "text/plain": "'Кол-во дубликатов в данных = 0'"
     },
     "metadata": {},
     "output_type": "display_data"
    }
   ],
   "source": [
    "# Проверю дубликаты после удаления колонки с Id \n",
    "for df in [df_base, df_train, df_test]:\n",
    "    display(f'Кол-во дубликатов в данных = {df.duplicated().sum()}')"
   ],
   "metadata": {
    "collapsed": false,
    "ExecuteTime": {
     "end_time": "2023-12-14T15:24:11.445498100Z",
     "start_time": "2023-12-14T15:23:42.479875600Z"
    }
   },
   "id": "d1cefa28c66315be"
  },
  {
   "cell_type": "code",
   "execution_count": 11,
   "outputs": [],
   "source": [
    "# Рассмотрим полученные данные. \n",
    "for df in [df_base, df_train, df_test]:\n",
    "    analyze_report = sv.analyze(df)\n",
    "    analyze_report.show_notebook()\n",
    "    analyze_report.show_html()"
   ],
   "metadata": {
    "collapsed": false,
    "ExecuteTime": {
     "end_time": "2023-12-14T15:24:11.455157700Z",
     "start_time": "2023-12-14T15:24:11.444056Z"
    }
   },
   "id": "c5c1913f8dc9fb82"
  },
  {
   "cell_type": "markdown",
   "source": [
    "Большинство данных имеют вид нормального или близкого к нормальному распределения. Из общей картины выбиваются колонки №№ 6, 21, 25, 33, 44, 59, 65, 70."
   ],
   "metadata": {
    "collapsed": false
   },
   "id": "118c114973905e46"
  },
  {
   "cell_type": "code",
   "execution_count": 12,
   "outputs": [],
   "source": [
    "# Посмотрю матрицу корреляции Phik и взаимосвязь признаков с таргетом. \n",
    "phik_matrix = df_train.phik_matrix(njobs=-1) "
   ],
   "metadata": {
    "collapsed": false,
    "ExecuteTime": {
     "end_time": "2023-12-14T15:24:11.457167600Z",
     "start_time": "2023-12-14T15:24:11.446504700Z"
    }
   },
   "id": "a6edd6d79ad9f666"
  },
  {
   "cell_type": "code",
   "execution_count": 13,
   "outputs": [],
   "source": [
    "f, ax = plt.subplots(figsize=(25, 10))\n",
    "sns.heatmap(phik_matrix)\n",
    "plt.title('Матрица корреляции $Phi$')\n",
    "plt.show()"
   ],
   "metadata": {
    "collapsed": false,
    "ExecuteTime": {
     "end_time": "2023-12-14T15:24:11.463389900Z",
     "start_time": "2023-12-14T15:24:11.455157700Z"
    }
   },
   "id": "e2bbe88013f250a1"
  },
  {
   "cell_type": "markdown",
   "source": [
    "На основе этого графика можно удалить колонки №№ 33 и 59, так как они не оказывают влияния на таргет. "
   ],
   "metadata": {
    "collapsed": false
   },
   "id": "14e506879e60157d"
  },
  {
   "cell_type": "code",
   "execution_count": 14,
   "outputs": [],
   "source": [
    "# Удалю колонку с таргетом из тренировочного датасета\n",
    "df_train.drop('Target', axis=1, inplace=True)"
   ],
   "metadata": {
    "collapsed": false,
    "ExecuteTime": {
     "end_time": "2023-12-14T15:24:11.517371Z",
     "start_time": "2023-12-14T15:24:11.461383500Z"
    }
   },
   "id": "408b04df4b5436dd"
  },
  {
   "cell_type": "code",
   "execution_count": 15,
   "outputs": [],
   "source": [
    "# Посмотрю на выбросы в данных\n",
    "show_outliers(df_base)"
   ],
   "metadata": {
    "collapsed": false,
    "ExecuteTime": {
     "end_time": "2023-12-14T15:24:11.526585600Z",
     "start_time": "2023-12-14T15:24:11.490532600Z"
    }
   },
   "id": "84a684faecb2af17"
  },
  {
   "cell_type": "code",
   "execution_count": 16,
   "outputs": [],
   "source": [
    "show_outliers(df_train)"
   ],
   "metadata": {
    "collapsed": false,
    "ExecuteTime": {
     "end_time": "2023-12-14T15:24:11.526585600Z",
     "start_time": "2023-12-14T15:24:11.496786300Z"
    }
   },
   "id": "1695de723b32ce5d"
  },
  {
   "cell_type": "code",
   "execution_count": 17,
   "outputs": [],
   "source": [
    "show_outliers(df_test)"
   ],
   "metadata": {
    "collapsed": false,
    "ExecuteTime": {
     "end_time": "2023-12-14T15:24:11.526585600Z",
     "start_time": "2023-12-14T15:24:11.502624400Z"
    }
   },
   "id": "92d5bd31b283c845"
  },
  {
   "cell_type": "markdown",
   "source": [
    "Практически у всех признаков имеются выбросы. \n",
    "Колонки, на которые ранее обратил внимание, тоже ведут себя на этих графиках отлично от остальных признаков. "
   ],
   "metadata": {
    "collapsed": false
   },
   "id": "3e912cf6111acec1"
  },
  {
   "cell_type": "code",
   "execution_count": 18,
   "outputs": [],
   "source": [
    "# Метрика с RobustScaler без удаления выбросов показывает лучшие значения, чем с удалением оных. В связи с этим не буду удалять выбросы. \n",
    "# for df in [df_train, df_base, df_test]:\n",
    "#     removing_outliers(df)"
   ],
   "metadata": {
    "collapsed": false,
    "ExecuteTime": {
     "end_time": "2023-12-14T15:24:11.526585600Z",
     "start_time": "2023-12-14T15:24:11.508874500Z"
    }
   },
   "id": "5be0625dfac20ada"
  },
  {
   "cell_type": "code",
   "execution_count": 19,
   "outputs": [],
   "source": [
    "# функция вычисления accuracy@n\n",
    "def accuracy_n(train_df:pd.DataFrame, \n",
    "               base_df:pd.DataFrame,\n",
    "               targets=train_targets,\n",
    "               base_index_=base_index,\n",
    "               idx=None):\n",
    "\n",
    "    accuracy = 0\n",
    "    start = time.time()\n",
    "    \n",
    "    index_ = idx\n",
    "    index_.reset()\n",
    "    if type(index_) == faiss.swigfaiss.IndexIVFFlat:\n",
    "        index_.nprobe = 55\n",
    "        index_.nlist = 55 \n",
    "        # при этих показателях у данного индекса максимальное значение метрики\n",
    "        \n",
    "    # index_.train(base_df)\n",
    "    # index_.add(base_df)\n",
    "    # _, indexes_ = index_.search(train_df, K)\n",
    "    \n",
    "    index_.train(np.ascontiguousarray(base_df))\n",
    "    index_.add(np.ascontiguousarray(base_df))\n",
    "    _, indexes_ = index_.search(np.ascontiguousarray(train_df), K)\n",
    "\n",
    "    for target, predicted in zip(targets.tolist(), indexes_.tolist()):\n",
    "        accuracy += int(target in [base_index_[number] for number in predicted])\n",
    "\n",
    "    return accuracy / len(indexes_) * 100, round(time.time() - start, 2)"
   ],
   "metadata": {
    "collapsed": false,
    "ExecuteTime": {
     "end_time": "2023-12-14T15:24:11.528586600Z",
     "start_time": "2023-12-14T15:24:11.515370800Z"
    }
   },
   "id": "78e6f142187207a3"
  },
  {
   "cell_type": "code",
   "execution_count": 20,
   "outputs": [
    {
     "name": "stdout",
     "output_type": "stream",
     "text": [
      "Метрика базовой модели без воздействий на признаки составляет 13.804\n"
     ]
    }
   ],
   "source": [
    "acc, _ = accuracy_n(df_train, df_base, idx=faiss.IndexFlatL2(df_base.shape[1]))\n",
    "print(f'Метрика базовой модели без воздействий на признаки составляет {acc}')"
   ],
   "metadata": {
    "collapsed": false,
    "ExecuteTime": {
     "end_time": "2023-12-14T15:28:11.235294Z",
     "start_time": "2023-12-14T15:24:11.520586400Z"
    }
   },
   "id": "2ccb8da7e4c7527a"
  },
  {
   "cell_type": "code",
   "execution_count": 21,
   "outputs": [],
   "source": [
    "# Посмотрю на изменения показаний метрики при удалении признаков\n",
    "res_list = []\n",
    "cols_for_drop = ['6', '21', '25', '33', '59', '44', '65', '70']\n",
    "\n",
    "df_train_drop = df_train.copy()\n",
    "df_base_drop = df_base.copy()\n",
    "\n",
    "for col in tqdm(cols_for_drop):\n",
    "    df_train_drop.drop(col, axis=1, inplace=True)\n",
    "    df_base_drop.drop(col, axis=1, inplace=True)\n",
    "\n",
    "    index = faiss.IndexFlatL2(df_base_drop.shape[1])\n",
    "\n",
    "    acc, time_ = accuracy_n(df_train_drop, df_base_drop, idx=index)\n",
    "    res_list.append([col, acc, time_])\n",
    "\n",
    "columns = ['Удаленный признак', 'accuracy@5', 'Время (сек.)']\n",
    "result = pd.DataFrame(res_list, columns=columns)\n",
    "display(result)\n",
    "\n",
    "del df_train_drop, df_base_drop"
   ],
   "metadata": {
    "collapsed": false,
    "ExecuteTime": {
     "end_time": "2023-12-14T15:28:11.238818200Z",
     "start_time": "2023-12-14T15:28:11.233854600Z"
    }
   },
   "id": "3064210ca6beccce"
  },
  {
   "cell_type": "code",
   "execution_count": 22,
   "outputs": [],
   "source": [
    "# Удалю рассмотренные признаки, которые ведут себя аномально, оставив колонки №№ 6 и 70. При их удалении метрика меняется в худшую сторону. \n",
    "for df in [df_train, df_base, df_test]:\n",
    "    df.drop(['21', '25', '33', '59', '44', '65'], axis=1, inplace=True)"
   ],
   "metadata": {
    "collapsed": false,
    "ExecuteTime": {
     "end_time": "2023-12-14T15:28:11.689271Z",
     "start_time": "2023-12-14T15:28:11.237813400Z"
    }
   },
   "id": "e4a3020f22dfbec4"
  },
  {
   "cell_type": "markdown",
   "source": [
    "### Промежуточный вывод. \n",
    "Данные не имеют пропусков и дубликатов. \n",
    "Признаки 6, 21, 25, 33, 44, 59, 65, 70 имеют ненормальное распределение. Остальные признаки имеют нормальное или близкое к нормальному распределение.\n",
    "Корреляция признаков отсутствует.\n",
    "Данные имеют выбросы. "
   ],
   "metadata": {
    "collapsed": false
   },
   "id": "80c85d24ec4e5b3"
  },
  {
   "cell_type": "markdown",
   "source": [
    "[К оглавлению](#section_0)\n",
    "<a id='section_3'></a>\n",
    "## Подготовка и выбор моделей  "
   ],
   "metadata": {
    "collapsed": false
   },
   "id": "b30b32dd92050632"
  },
  {
   "cell_type": "code",
   "execution_count": 23,
   "outputs": [],
   "source": [
    "# Подберу скалер для трансформации данных. \n",
    "all_scaler = [\n",
    "    MinMaxScaler(), MaxAbsScaler(), PowerTransformer(),\n",
    "    QuantileTransformer(), RobustScaler()\n",
    "]\n",
    "\n",
    "res_list = []\n",
    "\n",
    "for scal in tqdm(all_scaler):\n",
    "    scaler = scal\n",
    "    base_transform  = scaler.fit_transform(df_base)\n",
    "    train_transform = scaler.transform(df_train)\n",
    "    index = faiss.IndexFlatL2(base_transform.shape[1])\n",
    "\n",
    "    acc, time_ = accuracy_n(train_transform, base_transform, idx=index)\n",
    "    res_list.append([scal, acc, time_])\n",
    "\n",
    "columns = ['Scaler', 'accuracy@5', 'Время (сек.)']\n",
    "result = pd.DataFrame(res_list, columns=columns)\n",
    "result.sort_values(by='accuracy@5', ascending=False)"
   ],
   "metadata": {
    "collapsed": false,
    "ExecuteTime": {
     "end_time": "2023-12-14T15:28:11.700321700Z",
     "start_time": "2023-12-14T15:28:11.693214200Z"
    }
   },
   "id": "ce33eb6e9e776add"
  },
  {
   "cell_type": "markdown",
   "source": [
    "RobustScaler 71.9450 \n",
    "PowerTransformer 71.879\n",
    "StandardScaler 71.876\n",
    "QuantileTransformer 71.446\n",
    "MinMaxScaler 71.01\n",
    "MaxAbsScaler 70.16"
   ],
   "metadata": {
    "collapsed": false
   },
   "id": "9f005df0b2d87fec"
  },
  {
   "cell_type": "markdown",
   "source": [
    "Наилучшие показатели метрики у RobustScaler. Применю его к данным. "
   ],
   "metadata": {
    "collapsed": false
   },
   "id": "57874e7f8aa5b598"
  },
  {
   "cell_type": "code",
   "execution_count": 24,
   "outputs": [],
   "source": [
    "scaler = RobustScaler()\n",
    "\n",
    "base_transform  = scaler.fit_transform(df_base)\n",
    "train_transform = scaler.transform(df_train)\n",
    "test_transform = scaler.transform(df_test)"
   ],
   "metadata": {
    "collapsed": false,
    "ExecuteTime": {
     "end_time": "2023-12-14T15:28:16.250030Z",
     "start_time": "2023-12-14T15:28:11.695774700Z"
    }
   },
   "id": "bfc18c3c2b07179d"
  },
  {
   "cell_type": "code",
   "execution_count": 25,
   "outputs": [],
   "source": [
    "# Выбор числа кластеров по методу \"локтя\"\n",
    "\n",
    "inertia = []\n",
    "n_clusters = [5, 10, 50, 100, 200, 400, 600]\n",
    "\n",
    "for i in tqdm(n_clusters):\n",
    "    kmeans = KMeans(n_clusters=i, \n",
    "                    random_state=RANDOM_STATE, \n",
    "                    init='k-means++',\n",
    "                    n_init='auto',\n",
    "                    algorithm='elkan',\n",
    "                    ).fit(base_transform)\n",
    "    inertia.append(np.sqrt(kmeans.inertia_))\n",
    "\n",
    "plt.plot(n_clusters, inertia)\n",
    "plt.figure(figsize=(30, 20))\n",
    "plt.xlabel('$k$')\n",
    "plt.ylabel('$J(C_k)$');"
   ],
   "metadata": {
    "collapsed": false,
    "ExecuteTime": {
     "end_time": "2023-12-14T15:28:16.253101100Z",
     "start_time": "2023-12-14T15:28:16.250030Z"
    }
   },
   "id": "584ae84f97212dca"
  },
  {
   "cell_type": "markdown",
   "source": [
    " Заметен излом кривой на 200 кластерах. "
   ],
   "metadata": {
    "collapsed": false
   },
   "id": "7981efe222d0de0b"
  },
  {
   "cell_type": "code",
   "execution_count": 26,
   "outputs": [],
   "source": [
    "# Вычисление кол-ва кластеров\n",
    "\n",
    "def get_clusters_coeff(df:pd.DataFrame, n_clusters:list):\n",
    "    if isinstance(n_clusters, int):\n",
    "        n_clusters = [n_clusters]\n",
    "\n",
    "    for i in tqdm(n_clusters):\n",
    "        cluster_k = KMeans(n_clusters=i,\n",
    "                           n_init='auto',\n",
    "                           init='k-means++',\n",
    "                           random_state=RANDOM_STATE).fit(df)\n",
    "        # Разделим на i кластеров\n",
    "        db_score = davies_bouldin_score(df, cluster_k.labels_)\n",
    "        print(f'{i} кластеров: {round(db_score, 4)}')"
   ],
   "metadata": {
    "collapsed": false,
    "ExecuteTime": {
     "end_time": "2023-12-14T15:28:16.292106700Z",
     "start_time": "2023-12-14T15:28:16.254102600Z"
    }
   },
   "id": "5a83fc7ccd2a9120"
  },
  {
   "cell_type": "code",
   "execution_count": 27,
   "outputs": [],
   "source": [
    "%%time\n",
    "get_clusters_coeff(df=base_transform, \n",
    "                   n_clusters=[5, 10, 25, 50, 100, 200, 400, 600])"
   ],
   "metadata": {
    "collapsed": false,
    "ExecuteTime": {
     "end_time": "2023-12-14T15:28:16.292106700Z",
     "start_time": "2023-12-14T15:28:16.280247100Z"
    }
   },
   "id": "59d9a09332e1b111"
  },
  {
   "cell_type": "markdown",
   "source": [
    "И поиск кластеров коэффициентом схожести Девида-Боулдина также показвает на 200 кластеров. \n",
    "<br>\n",
    "### Рассмотрение различных индексов FAISS"
   ],
   "metadata": {
    "collapsed": false
   },
   "id": "56a7791ba96a98be"
  },
  {
   "cell_type": "code",
   "execution_count": 28,
   "outputs": [],
   "source": [
    "dimension = base_transform.shape[1]"
   ],
   "metadata": {
    "collapsed": false,
    "ExecuteTime": {
     "end_time": "2023-12-14T15:28:16.292106700Z",
     "start_time": "2023-12-14T15:28:16.284975600Z"
    }
   },
   "id": "9a3a2a3b6c0a7df6"
  },
  {
   "cell_type": "code",
   "execution_count": 29,
   "outputs": [],
   "source": [
    "res_list = []\n",
    "nlists = 200\n",
    "quantizer = faiss.IndexFlatL2(dimension)\n",
    "\n",
    "ind = {'IndexFlatL2': faiss.IndexFlatL2(dimension),\n",
    "       'IndexIVFFlat': faiss.IndexIVFFlat(quantizer, dimension, nlists),\n",
    "       'IndexHNSWFlat': faiss.IndexHNSWFlat(dimension, K),\n",
    "       'IndexIVFPQ': faiss.IndexIVFPQ(quantizer, dimension, nlists, 11, 8),\n",
    "       'IndexPQ': faiss.IndexPQ(dimension, 11, 8),\n",
    "       'IndexLSH': faiss.IndexLSH(dimension, 8),\n",
    "       'IndexFlatIP': faiss.IndexFlatIP(dimension),\n",
    "       }\n",
    "\n",
    "for k, v in tqdm(ind.items()):\n",
    "    acc, time_ = accuracy_n(train_transform, base_transform, idx=v)\n",
    "    res_list.append([k, acc, time_])\n",
    "\n",
    "columns = ['Index', 'accuracy@5', 'Время (сек.)']\n",
    "result = pd.DataFrame(res_list, columns=columns)\n",
    "result.sort_values(by='accuracy@5', ascending=False)"
   ],
   "metadata": {
    "collapsed": false,
    "ExecuteTime": {
     "end_time": "2023-12-14T15:28:16.306415100Z",
     "start_time": "2023-12-14T15:28:16.291094400Z"
    }
   },
   "id": "d91f4085e3c9a70e"
  },
  {
   "cell_type": "markdown",
   "source": [
    "Наилучшие показатели у индексов ***IndexIVFFlat*** и ***IndexFlatL2***, но при этом ***IndexFlatL2*** работает в 10 раз быстрее, а результат у него отличается всего на 2 тысячных.\n",
    "При таких показателях выберу для дальнейшей работы ***IndexFlatL2***"
   ],
   "metadata": {
    "collapsed": false
   },
   "id": "949c1a79b6503f2f"
  },
  {
   "cell_type": "markdown",
   "source": [
    "[К оглавлению](#section_0)\n",
    "<a id='section_4'></a>\n",
    "## Уменьшение размерности  "
   ],
   "metadata": {
    "collapsed": false
   },
   "id": "752344d666d9ca0f"
  },
  {
   "cell_type": "markdown",
   "source": [
    "Попробую уменьшить размерность и посмотрю на результаты. "
   ],
   "metadata": {
    "collapsed": false
   },
   "id": "df5d1a8361a184df"
  },
  {
   "cell_type": "code",
   "execution_count": 30,
   "outputs": [],
   "source": [
    "# Создаем экземпляр PCA\n",
    "pca = PCA(n_components=None,\n",
    "          whiten=True,\n",
    "          random_state=RANDOM_STATE).fit(base_transform)\n",
    "\n",
    "ipca = IncrementalPCA(n_components=None,\n",
    "                      whiten=True,\n",
    "                      batch_size=100).fit(base_transform)\n",
    "\n",
    "# Строим график объясненной дисперсии\n",
    "evr_ipca = ipca.explained_variance_ratio_\n",
    "evr_pca = pca.explained_variance_ratio_\n",
    "\n",
    "plt.plot(range(1, len(evr_ipca) + 1), evr_ipca, marker='o', color='darkorange')\n",
    "plt.plot(range(1, len(evr_pca) + 1), evr_pca, marker='X', color='navy')\n",
    "\n",
    "plt.xlabel(\"Число компонент\")\n",
    "plt.ylabel(\"Доля объясненной дисперсии\")\n",
    "plt.title(\"Метод локтя для выбора числа компонент\")\n",
    "plt.show()"
   ],
   "metadata": {
    "collapsed": false,
    "ExecuteTime": {
     "end_time": "2023-12-14T15:28:16.306683100Z",
     "start_time": "2023-12-14T15:28:16.296973100Z"
    }
   },
   "id": "6a7c267228f8f62e"
  },
  {
   "cell_type": "code",
   "execution_count": 31,
   "outputs": [],
   "source": [
    "pca = PCA(n_components=dimension,\n",
    "          whiten=True,\n",
    "          random_state=RANDOM_STATE).fit(base_transform)\n",
    "\n",
    "acc, time_ = accuracy_n(\n",
    "    pca.transform(train_transform), \n",
    "    pca.transform(base_transform),\n",
    "    idx=faiss.IndexFlatL2(dimension)\n",
    ")\n",
    "print(f'accuracy@5 = {acc}, время выполнения = {time_} секунд.')"
   ],
   "metadata": {
    "collapsed": false,
    "ExecuteTime": {
     "end_time": "2023-12-14T15:28:16.312209500Z",
     "start_time": "2023-12-14T15:28:16.303415300Z"
    }
   },
   "id": "a935cf65c8384c92"
  },
  {
   "cell_type": "code",
   "execution_count": 32,
   "outputs": [],
   "source": [
    "ipca = IncrementalPCA(n_components=dimension,\n",
    "                      whiten=True,\n",
    "                      batch_size=100).fit(base_transform)\n",
    "\n",
    "acc, time_ = accuracy_n(\n",
    "    ipca.transform(train_transform),\n",
    "    ipca.transform(base_transform),\n",
    "    idx=faiss.IndexFlatL2(dimension)\n",
    ")\n",
    "print(f'accuracy@5 = {acc}, время выполнения = {time_} секунд.')"
   ],
   "metadata": {
    "collapsed": false,
    "ExecuteTime": {
     "end_time": "2023-12-14T15:28:16.315008500Z",
     "start_time": "2023-12-14T15:28:16.309208900Z"
    }
   },
   "id": "3d87e91d9f106eb0"
  },
  {
   "cell_type": "code",
   "execution_count": 33,
   "outputs": [],
   "source": [
    "svd = TruncatedSVD(n_components=dimension,\n",
    "                   random_state=RANDOM_STATE).fit(base_transform)\n",
    "\n",
    "acc, time_ = accuracy_n(\n",
    "    svd.transform(train_transform),\n",
    "    svd.transform(base_transform),\n",
    "    idx=faiss.IndexFlatL2(dimension)\n",
    ")\n",
    "print(f'accuracy@5 = {acc}, время выполнения = {time_} секунд.')"
   ],
   "metadata": {
    "collapsed": false,
    "ExecuteTime": {
     "end_time": "2023-12-14T15:28:16.325885100Z",
     "start_time": "2023-12-14T15:28:16.315008500Z"
    }
   },
   "id": "e24417f1d0a92776"
  },
  {
   "cell_type": "markdown",
   "source": [
    "Эксперименты с уменьшением размерности не дали улучшения метрики. "
   ],
   "metadata": {
    "collapsed": false
   },
   "id": "bcc8ccd9f7cbbab4"
  },
  {
   "cell_type": "markdown",
   "source": [
    "[К оглавлению](#section_0)\n",
    "<a id='section_5'></a>\n",
    "## Проверка на Валидационной выборке\n",
    "\n",
    "Проверю результат на валидационных данных. "
   ],
   "metadata": {
    "collapsed": false
   },
   "id": "fb5a8edb16d51197"
  },
  {
   "cell_type": "code",
   "execution_count": 35,
   "outputs": [
    {
     "name": "stdout",
     "output_type": "stream",
     "text": [
      "accuracy@5 = 71.798, время выполнения = 239.22 секунд.\n"
     ]
    }
   ],
   "source": [
    "acc, time_ = accuracy_n(\n",
    "    test_transform,\n",
    "    base_transform,\n",
    "    targets=ans['Expected'],\n",
    "    idx=faiss.IndexFlatL2(dimension)\n",
    ")\n",
    "print(f'accuracy@5 = {acc}, время выполнения = {time_} секунд.')"
   ],
   "metadata": {
    "collapsed": false,
    "ExecuteTime": {
     "end_time": "2023-12-14T15:36:19.103539400Z",
     "start_time": "2023-12-14T15:32:19.870814600Z"
    }
   },
   "id": "4e626709a8e4c71b"
  },
  {
   "cell_type": "code",
   "execution_count": 36,
   "outputs": [
    {
     "name": "stdout",
     "output_type": "stream",
     "text": [
      "accuracy@5 = 71.797, время выполнения = 2221.57 секунд.\n"
     ]
    }
   ],
   "source": [
    "nlists = 200\n",
    "quantizer = faiss.IndexFlatL2(dimension)\n",
    "\n",
    "acc, time_ = accuracy_n(\n",
    "    test_transform,\n",
    "    base_transform,\n",
    "    targets=ans['Expected'],\n",
    "    idx=faiss.IndexIVFFlat(quantizer, dimension, nlists)\n",
    ")\n",
    "print(f'accuracy@5 = {acc}, время выполнения = {time_} секунд.')"
   ],
   "metadata": {
    "collapsed": false,
    "ExecuteTime": {
     "end_time": "2023-12-14T16:13:20.699270300Z",
     "start_time": "2023-12-14T15:36:19.103539400Z"
    }
   },
   "id": "448c9ea4a6e934c3"
  },
  {
   "cell_type": "markdown",
   "source": [
    "[К оглавлению](#section_0)\n",
    "<a id='section_6'></a>\n",
    "## Итоговый вывод"
   ],
   "metadata": {
    "collapsed": false
   },
   "id": "280c336500f9e84f"
  },
  {
   "cell_type": "markdown",
   "source": [
    "Значение целевой метрики ***accuracy@5 = 71.798*** было получено с использованием модели **FAISS** с индексом `IndexFlatL2`.\n",
    "Масштабирование было выполнено с применением *RobustScaler*. \n",
    "Признаки с ненормальным распределением были удалены, за исключением двух, удаление которых неблагоприятно влияло на метрику (6 и 70).\n",
    "Попытка уменьшить размерность не привела к улучшению результата. "
   ],
   "metadata": {
    "collapsed": false
   },
   "id": "769a9c5c4e16e77a"
  }
 ],
 "metadata": {
  "kernelspec": {
   "display_name": "Python 3",
   "language": "python",
   "name": "python3"
  },
  "language_info": {
   "codemirror_mode": {
    "name": "ipython",
    "version": 2
   },
   "file_extension": ".py",
   "mimetype": "text/x-python",
   "name": "python",
   "nbconvert_exporter": "python",
   "pygments_lexer": "ipython2",
   "version": "2.7.6"
  }
 },
 "nbformat": 4,
 "nbformat_minor": 5
}
